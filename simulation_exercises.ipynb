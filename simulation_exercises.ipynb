{
 "cells": [
  {
   "cell_type": "markdown",
   "id": "1b580b56",
   "metadata": {},
   "source": [
    "# Simulations"
   ]
  },
  {
   "cell_type": "code",
   "execution_count": 1,
   "id": "c4898a34",
   "metadata": {},
   "outputs": [],
   "source": [
    "#imports\n",
    "import numpy as np\n",
    "import pandas as pd\n",
    "import matplotlib.pyplot as plt"
   ]
  },
  {
   "cell_type": "code",
   "execution_count": 2,
   "id": "29e8d395",
   "metadata": {},
   "outputs": [],
   "source": [
    "#can use any random seed- lets preset this\n",
    "np.random.seed(1349) \n",
    "\n",
    "#preset the number of simulations we'll have\n",
    "n_simulations =100_000"
   ]
  },
  {
   "cell_type": "markdown",
   "id": "74baf062",
   "metadata": {},
   "source": [
    "<hr style=\"border:2px solid gray\">"
   ]
  },
  {
   "cell_type": "markdown",
   "id": "33328294",
   "metadata": {},
   "source": [
    "### 1. How likely is it that you roll doubles when rolling two dice?"
   ]
  },
  {
   "cell_type": "markdown",
   "id": "92590f4a",
   "metadata": {},
   "source": [
    "- First, let's look at this without our imports, just with the human eye\n",
    "- (1,1) (2,2) (3,3) (4,4) (5,5) (6,6) are the double if we have two die"
   ]
  },
  {
   "cell_type": "code",
   "execution_count": 3,
   "id": "afc91a82",
   "metadata": {},
   "outputs": [
    {
     "data": {
      "text/plain": [
       "0.16666666666666666"
      ]
     },
     "execution_count": 3,
     "metadata": {},
     "output_type": "execute_result"
    }
   ],
   "source": [
    "#6 chances for a double out of 36 rolls\n",
    "6/36 "
   ]
  },
  {
   "cell_type": "markdown",
   "id": "b0722b3a",
   "metadata": {},
   "source": [
    "- Now, lets use our imports to get an answer via simulation"
   ]
  },
  {
   "cell_type": "code",
   "execution_count": 4,
   "id": "3435c691",
   "metadata": {},
   "outputs": [],
   "source": [
    "#number of dice\n",
    "n_dice = 2 \n",
    "\n",
    "#possible outcomes\n",
    "outcomes = [1,2,3,4,5,6]"
   ]
  },
  {
   "cell_type": "code",
   "execution_count": 5,
   "id": "25d1bfcb",
   "metadata": {},
   "outputs": [
    {
     "data": {
      "text/plain": [
       "array([[3, 2],\n",
       "       [5, 3],\n",
       "       [4, 4],\n",
       "       ...,\n",
       "       [3, 5],\n",
       "       [2, 4],\n",
       "       [4, 5]])"
      ]
     },
     "execution_count": 5,
     "metadata": {},
     "output_type": "execute_result"
    }
   ],
   "source": [
    "rolls = np.random.choice(outcomes, size=(n_simulations, n_dice))\n",
    "\n",
    "#call our variable\n",
    "rolls"
   ]
  },
  {
   "cell_type": "code",
   "execution_count": 6,
   "id": "1c9e3ca1",
   "metadata": {},
   "outputs": [
    {
     "data": {
      "text/html": [
       "<div>\n",
       "<style scoped>\n",
       "    .dataframe tbody tr th:only-of-type {\n",
       "        vertical-align: middle;\n",
       "    }\n",
       "\n",
       "    .dataframe tbody tr th {\n",
       "        vertical-align: top;\n",
       "    }\n",
       "\n",
       "    .dataframe thead th {\n",
       "        text-align: right;\n",
       "    }\n",
       "</style>\n",
       "<table border=\"1\" class=\"dataframe\">\n",
       "  <thead>\n",
       "    <tr style=\"text-align: right;\">\n",
       "      <th></th>\n",
       "      <th>0</th>\n",
       "      <th>1</th>\n",
       "    </tr>\n",
       "  </thead>\n",
       "  <tbody>\n",
       "    <tr>\n",
       "      <th>0</th>\n",
       "      <td>3</td>\n",
       "      <td>2</td>\n",
       "    </tr>\n",
       "    <tr>\n",
       "      <th>1</th>\n",
       "      <td>5</td>\n",
       "      <td>3</td>\n",
       "    </tr>\n",
       "    <tr>\n",
       "      <th>2</th>\n",
       "      <td>4</td>\n",
       "      <td>4</td>\n",
       "    </tr>\n",
       "    <tr>\n",
       "      <th>3</th>\n",
       "      <td>6</td>\n",
       "      <td>2</td>\n",
       "    </tr>\n",
       "    <tr>\n",
       "      <th>4</th>\n",
       "      <td>1</td>\n",
       "      <td>1</td>\n",
       "    </tr>\n",
       "  </tbody>\n",
       "</table>\n",
       "</div>"
      ],
      "text/plain": [
       "   0  1\n",
       "0  3  2\n",
       "1  5  3\n",
       "2  4  4\n",
       "3  6  2\n",
       "4  1  1"
      ]
     },
     "execution_count": 6,
     "metadata": {},
     "output_type": "execute_result"
    }
   ],
   "source": [
    "#let's turn this into a dataframe so we can see our outcomes more clearly\n",
    "rolls =pd.DataFrame(rolls)\n",
    "\n",
    "#call our new dataframe\n",
    "rolls.head()"
   ]
  },
  {
   "cell_type": "code",
   "execution_count": 7,
   "id": "cc68466b",
   "metadata": {},
   "outputs": [
    {
     "data": {
      "text/plain": [
       "0.16445"
      ]
     },
     "execution_count": 7,
     "metadata": {},
     "output_type": "execute_result"
    }
   ],
   "source": [
    "#the average likelyhood that roll in index 0 will equal roll in index 1\n",
    "(rolls[0] == rolls[1]).mean()"
   ]
  },
  {
   "cell_type": "markdown",
   "id": "9b088bbb",
   "metadata": {},
   "source": [
    "<hr style=\"border:1.5px solid black\">"
   ]
  },
  {
   "cell_type": "markdown",
   "id": "7c17c4cb",
   "metadata": {},
   "source": [
    "### #2. If you flip 8 coins, what is the probability of getting exactly 3 heads? What is the probability of getting more than 3 heads?"
   ]
  },
  {
   "cell_type": "code",
   "execution_count": 8,
   "id": "b4795ff9",
   "metadata": {},
   "outputs": [],
   "source": [
    "#number of coins\n",
    "n_coins = 8 \n",
    "\n",
    "#possible outcomes\n",
    "outcomes = ['H', 'T']"
   ]
  },
  {
   "cell_type": "code",
   "execution_count": 9,
   "id": "dfd7328b",
   "metadata": {},
   "outputs": [
    {
     "data": {
      "text/plain": [
       "array([['T', 'H', 'T', ..., 'H', 'T', 'T'],\n",
       "       ['T', 'H', 'T', ..., 'H', 'H', 'H'],\n",
       "       ['T', 'T', 'T', ..., 'H', 'T', 'T'],\n",
       "       ...,\n",
       "       ['T', 'T', 'H', ..., 'H', 'H', 'T'],\n",
       "       ['H', 'H', 'H', ..., 'T', 'H', 'T'],\n",
       "       ['T', 'H', 'H', ..., 'H', 'H', 'T']], dtype='<U1')"
      ]
     },
     "execution_count": 9,
     "metadata": {},
     "output_type": "execute_result"
    }
   ],
   "source": [
    "#us random choice to get the simulation\n",
    "coinflips = np.random.choice(outcomes, size=(n_simulations, n_coins))\n",
    "\n",
    "#call the variable\n",
    "coinflips"
   ]
  },
  {
   "cell_type": "code",
   "execution_count": 10,
   "id": "5d18cc9e",
   "metadata": {},
   "outputs": [
    {
     "data": {
      "text/plain": [
       "array([3, 4, 1, ..., 3, 4, 5])"
      ]
     },
     "execution_count": 10,
     "metadata": {},
     "output_type": "execute_result"
    }
   ],
   "source": [
    "#let's look at the possibility of the coinflip being Heads\n",
    "flips_by_sim = (coinflips == 'H').sum(axis=1)\n",
    "\n",
    "#call that variable\n",
    "flips_by_sim"
   ]
  },
  {
   "cell_type": "markdown",
   "id": "66822297",
   "metadata": {},
   "source": [
    "##### Landing on Heads exactly 3 times"
   ]
  },
  {
   "cell_type": "code",
   "execution_count": 11,
   "id": "9961ffe2",
   "metadata": {},
   "outputs": [
    {
     "data": {
      "text/plain": [
       "0.21747"
      ]
     },
     "execution_count": 11,
     "metadata": {},
     "output_type": "execute_result"
    }
   ],
   "source": [
    "#what is the possibility of the flips being heads exactly 3 times\n",
    "(flips_by_sim == 3).mean()"
   ]
  },
  {
   "cell_type": "markdown",
   "id": "06e7ee20",
   "metadata": {},
   "source": [
    "##### Landing on Heads more than 3 times"
   ]
  },
  {
   "cell_type": "code",
   "execution_count": 12,
   "id": "3bcfd68a",
   "metadata": {},
   "outputs": [
    {
     "data": {
      "text/plain": [
       "0.63597"
      ]
     },
     "execution_count": 12,
     "metadata": {},
     "output_type": "execute_result"
    }
   ],
   "source": [
    "#using data from above\n",
    "(flips_by_sim > 3).mean()"
   ]
  },
  {
   "cell_type": "code",
   "execution_count": 13,
   "id": "07cc259c",
   "metadata": {},
   "outputs": [
    {
     "data": {
      "text/plain": [
       "0.63702"
      ]
     },
     "execution_count": 13,
     "metadata": {},
     "output_type": "execute_result"
    }
   ],
   "source": [
    "#completely redone\n",
    "outcomes = ['H','T']\n",
    "n_coins = 8\n",
    "\n",
    "coinflips = np.random.choice(outcomes, size=(n_simulations, n_coins))\n",
    "flips_by_sim = (coinflips == 'H').sum(axis=1)\n",
    "(flips_by_sim > 3).mean()"
   ]
  },
  {
   "cell_type": "markdown",
   "id": "512c42b8",
   "metadata": {},
   "source": [
    "<hr style=\"border:1.5px solid black\">"
   ]
  },
  {
   "cell_type": "markdown",
   "id": "9cca86b8",
   "metadata": {},
   "source": [
    "### #3 There are approximitely 3 web development cohorts for every 1 data science cohort at Codeup. Assuming that Codeup randomly selects an alumni to put on a billboard, what are the odds that the two billboards I drive past both have data science students on them?"
   ]
  },
  {
   "cell_type": "markdown",
   "id": "96b23731",
   "metadata": {},
   "source": [
    "##### First, let's look at this without imports and answer using probability\n",
    "- 3 webdev per 1 dS == 1/4 classes is DS == 25% of classes are DS\n",
    "- 2 billboards\n",
    "- odds of both having a data science student on it\n",
    "- 25% chance per billboard * 2 billboards = 1/8"
   ]
  },
  {
   "cell_type": "code",
   "execution_count": 14,
   "id": "7cba1a0d",
   "metadata": {},
   "outputs": [
    {
     "data": {
      "text/plain": [
       "0.0625"
      ]
     },
     "execution_count": 14,
     "metadata": {},
     "output_type": "execute_result"
    }
   ],
   "source": [
    "(1/4) * (1/4)"
   ]
  },
  {
   "cell_type": "markdown",
   "id": "6100c2a6",
   "metadata": {},
   "source": [
    "##### Now, let's answer with simulation"
   ]
  },
  {
   "cell_type": "code",
   "execution_count": 15,
   "id": "d07cc6f8",
   "metadata": {},
   "outputs": [
    {
     "data": {
      "text/plain": [
       "array([['wd', 'wd'],\n",
       "       ['ds', 'wd'],\n",
       "       ['wd', 'ds'],\n",
       "       ...,\n",
       "       ['wd', 'wd'],\n",
       "       ['wd', 'wd'],\n",
       "       ['wd', 'wd']], dtype='<U2')"
      ]
     },
     "execution_count": 15,
     "metadata": {},
     "output_type": "execute_result"
    }
   ],
   "source": [
    "#our possible outcomes with 4 classes\n",
    "outcomes = ['wd', 'wd', 'wd', 'ds']\n",
    "\n",
    "#number of billboards\n",
    "n_billboards = 2\n",
    "\n",
    "#using random choice, let's see what the outcomes will be\n",
    "billboards = np.random.choice(outcomes, size=(n_simulations, n_billboards))\n",
    "\n",
    "#call the variable\n",
    "billboards"
   ]
  },
  {
   "cell_type": "code",
   "execution_count": 16,
   "id": "fe6c5604",
   "metadata": {},
   "outputs": [
    {
     "data": {
      "text/plain": [
       "array([['wd', 'wd'],\n",
       "       ['wd', 'wd'],\n",
       "       ['wd', 'wd'],\n",
       "       ...,\n",
       "       ['ds', 'wd'],\n",
       "       ['wd', 'wd'],\n",
       "       ['ds', 'wd']], dtype='<U2')"
      ]
     },
     "execution_count": 16,
     "metadata": {},
     "output_type": "execute_result"
    }
   ],
   "source": [
    "# our only options are...\n",
    "outcomes = ['wd','ds']\n",
    "\n",
    "#using the probability of 1/4 classes being DS, and 3/4 classes being WD\n",
    "billboards = np.random.choice(outcomes, size=(n_simulations, n_billboards), \n",
    "                p=[0.75, 0.25])\n",
    "\n",
    "#let's see our outcomes\n",
    "billboards"
   ]
  },
  {
   "cell_type": "code",
   "execution_count": 17,
   "id": "90e77c8b",
   "metadata": {},
   "outputs": [
    {
     "data": {
      "text/plain": [
       "array([0, 0, 0, ..., 1, 0, 1])"
      ]
     },
     "execution_count": 17,
     "metadata": {},
     "output_type": "execute_result"
    }
   ],
   "source": [
    "#what are the possibilities that the billboard will be exactly data science\n",
    "(billboards == 'ds').sum(axis=1)"
   ]
  },
  {
   "cell_type": "code",
   "execution_count": 18,
   "id": "28124cd4",
   "metadata": {},
   "outputs": [
    {
     "data": {
      "text/plain": [
       "0.06122"
      ]
     },
     "execution_count": 18,
     "metadata": {},
     "output_type": "execute_result"
    }
   ],
   "source": [
    "#what is the probability that TWO billboards will be exactly data science\n",
    "prob = ((billboards == 'ds').sum(axis=1) == 2).mean()\n",
    "\n",
    "#call that variable\n",
    "prob"
   ]
  },
  {
   "cell_type": "markdown",
   "id": "94ed38b6",
   "metadata": {},
   "source": [
    "##### Converting from probability to odds:"
   ]
  },
  {
   "cell_type": "code",
   "execution_count": 19,
   "id": "349ca6ab",
   "metadata": {},
   "outputs": [
    {
     "data": {
      "text/plain": [
       "0.93878"
      ]
     },
     "execution_count": 19,
     "metadata": {},
     "output_type": "execute_result"
    }
   ],
   "source": [
    "# Probability of seeing anything else\n",
    "1-prob"
   ]
  },
  {
   "cell_type": "code",
   "execution_count": 20,
   "id": "316176e2",
   "metadata": {},
   "outputs": [
    {
     "data": {
      "text/plain": [
       "0.06521229681075438"
      ]
     },
     "execution_count": 20,
     "metadata": {},
     "output_type": "execute_result"
    }
   ],
   "source": [
    "#odds of seeing a builboard that is not WD\n",
    "odds = prob/(1-prob)\n",
    "odds"
   ]
  },
  {
   "cell_type": "code",
   "execution_count": 21,
   "id": "6729f993",
   "metadata": {},
   "outputs": [
    {
     "data": {
      "text/plain": [
       "0.0625"
      ]
     },
     "execution_count": 21,
     "metadata": {},
     "output_type": "execute_result"
    }
   ],
   "source": [
    "# theoretical prob\n",
    "0.25 * 0.25"
   ]
  },
  {
   "cell_type": "markdown",
   "id": "71cac8e7",
   "metadata": {},
   "source": [
    "<hr style=\"border:1.5px solid black\">"
   ]
  },
  {
   "cell_type": "markdown",
   "id": "c82a2907",
   "metadata": {},
   "source": [
    "### #4 Codeup students buy, on average, 3 poptart packages (+- 1.5) a day from the snack vending machine. If on monday the machine is restocked with 17 poptart packages, how likely is it that I will be able to buy some poptarts on Friday afternoon?"
   ]
  },
  {
   "cell_type": "markdown",
   "id": "c8444f88",
   "metadata": {},
   "source": [
    "##### Let's break this down"
   ]
  },
  {
   "cell_type": "markdown",
   "id": "a2ec2d68",
   "metadata": {},
   "source": [
    "- 1.5-4.5 puchases a day (average 3)\n",
    "- 17 packages every monday\n",
    "- probability to buy one on Friday\n",
    "- Mon:17 - (1.5-4.5) = 15.5-12.5 =day 1 prob = 100%\n",
    "- Tues: 15-12.5 - (1.5-4.5)= 13.5-8 = day 2 prob 100% \n",
    "- Wed:13.5-8 - (1.5-4.5)= 12-3.5 = day 3 prob 100%\n",
    "- Thurs: 12-3.5 - (1.5-4.5)= 10.5-(-1) = day 4, could have 10.5 or -1 left / 50% chance\n",
    "- Friday: 10.5 -(-1) - (1.5-4.5) = 9-(-5.5)= day 4, could have 9 or -5.5/ 50% chance"
   ]
  },
  {
   "cell_type": "markdown",
   "id": "934f6469",
   "metadata": {},
   "source": [
    "##### Now, let's use simulation"
   ]
  },
  {
   "cell_type": "code",
   "execution_count": 22,
   "id": "b227025c",
   "metadata": {},
   "outputs": [],
   "source": [
    "mean = 3 \n",
    "sd = 1.5\n",
    "\n",
    "n_days = 5"
   ]
  },
  {
   "cell_type": "code",
   "execution_count": 23,
   "id": "344d0a1b",
   "metadata": {},
   "outputs": [
    {
     "data": {
      "text/plain": [
       "array([[ 1.16283588,  3.38556303,  2.53839614,  6.84525014,  1.69433699],\n",
       "       [ 0.82889227,  2.7175624 ,  3.03055605,  3.17890752,  4.17497634],\n",
       "       [ 4.12536744,  2.94665612, -0.6539064 ,  3.75840019,  3.44213048],\n",
       "       ...,\n",
       "       [ 4.53147419,  3.64975059,  3.43267494,  1.74026744, -0.9701048 ],\n",
       "       [ 4.67763903,  3.53659002,  2.02264614,  2.71161261,  4.16466079],\n",
       "       [ 1.00720269,  3.38204277,  3.27837179,  2.56131665,  1.45123838]])"
      ]
     },
     "execution_count": 23,
     "metadata": {},
     "output_type": "execute_result"
    }
   ],
   "source": [
    "#let's use random normal becuase we have the mean and sd already\n",
    "#see what are chances are that poptarts are bought that day\n",
    "poptarts_bought_day = np.random.normal(mean, sd, size=(n_simulations, n_days))\n",
    "\n",
    "#take a look at what we get\n",
    "poptarts_bought_day"
   ]
  },
  {
   "cell_type": "code",
   "execution_count": 24,
   "id": "1d5baa2d",
   "metadata": {},
   "outputs": [
    {
     "data": {
      "image/png": "[encoded data removed]",
      "text/plain": [
       "<Figure size 640x480 with 1 Axes>"
      ]
     },
     "metadata": {},
     "output_type": "display_data"
    }
   ],
   "source": [
    "#we can visualize these popart daily purchases if we want to\n",
    "plt.hist(np.random.normal(3, 1.5, size = (10000)))\n",
    "plt.title('Distribution of Poptart Packages Purchased Each Day')\n",
    "plt.vlines(3, 0, 3000, color='black')\n",
    "plt.text(3.1, 3000, 'Mean')\n",
    "plt.vlines(4.5, 0, 3000, color='black', ls='--', alpha=0.5)\n",
    "plt.text(4.6, 3000, '1σ')\n",
    "plt.vlines(6.0, 0, 3000, color='black', ls='--', alpha=0.5)\n",
    "plt.text(6.1, 3000, '2σ')\n",
    "plt.vlines(1.5, 0, 3000, color='black', ls='--', alpha=0.5)\n",
    "plt.text(1.6, 3000, '-1σ')\n",
    "plt.vlines(0, 0, 3000, color='black', ls='--', alpha=0.5)\n",
    "plt.text(0.1, 3000, '-2σ')\n",
    "plt.ylabel('Count')\n",
    "plt.xlabel('Number of Packages Purchased')\n",
    "plt.show()"
   ]
  },
  {
   "cell_type": "code",
   "execution_count": 25,
   "id": "d61a63ec",
   "metadata": {},
   "outputs": [
    {
     "data": {
      "text/plain": [
       "array([15.62638218, 13.93089458, 13.61864783, ..., 12.38406235,\n",
       "       17.11314859, 11.68017227])"
      ]
     },
     "execution_count": 25,
     "metadata": {},
     "output_type": "execute_result"
    }
   ],
   "source": [
    "#see what are chances are that poptarts are bought per week\n",
    "poptarts_bought_per_week = poptarts_bought_day.sum(axis=1)\n",
    "\n",
    "#call that variable\n",
    "poptarts_bought_per_week"
   ]
  },
  {
   "cell_type": "code",
   "execution_count": 26,
   "id": "b41ca6c3",
   "metadata": {},
   "outputs": [
    {
     "data": {
      "text/plain": [
       "0.61567"
      ]
     },
     "execution_count": 26,
     "metadata": {},
     "output_type": "execute_result"
    }
   ],
   "source": [
    "#probability that less than 17 poptarts are bought that week\n",
    "(poptarts_bought_per_week <= 16).mean()"
   ]
  },
  {
   "cell_type": "markdown",
   "id": "c28e6931",
   "metadata": {},
   "source": [
    "<hr style=\"border:1.5px solid black\">"
   ]
  },
  {
   "cell_type": "markdown",
   "id": "c8c44e9e",
   "metadata": {},
   "source": [
    "### #5 Compare Heights\n",
    "- Men have an average height of 178 cm and standard deviation of 8cm.\n",
    "- Women have a mean of 170, sd = 6cm.\n",
    "- If a man and woman are chosen at random, P(woman taller than man)?"
   ]
  },
  {
   "cell_type": "code",
   "execution_count": 27,
   "id": "67c09233",
   "metadata": {},
   "outputs": [],
   "source": [
    "#men's average height in cm\n",
    "men_avg= 178\n",
    "#men's standard deviation in cm\n",
    "men_std=8\n",
    "\n",
    "#women's average height in cm\n",
    "women_avg=170\n",
    "#women's standard deviation in cm\n",
    "women_std=6"
   ]
  },
  {
   "cell_type": "code",
   "execution_count": 28,
   "id": "7e408cb1",
   "metadata": {},
   "outputs": [
    {
     "data": {
      "text/plain": [
       "array([177.93448324, 167.71305595, 182.20659687, ..., 181.29220212,\n",
       "       178.45696107, 181.3655779 ])"
      ]
     },
     "execution_count": 28,
     "metadata": {},
     "output_type": "execute_result"
    }
   ],
   "source": [
    "#using random normal, lets find the average heights of men (in cm) for 100K simulations\n",
    "height_men = np.random.normal(men_avg, men_std, n_simulations)\n",
    "\n",
    "#call that variable\n",
    "height_men"
   ]
  },
  {
   "cell_type": "code",
   "execution_count": 29,
   "id": "b8ecbb40",
   "metadata": {},
   "outputs": [
    {
     "data": {
      "text/plain": [
       "array([177.93448324, 167.71305595, 182.20659687, ..., 181.29220212,\n",
       "       178.45696107, 181.3655779 ])"
      ]
     },
     "execution_count": 29,
     "metadata": {},
     "output_type": "execute_result"
    }
   ],
   "source": [
    "#using random normal, lets find the average heights of women (in cm) for 100K simulations\n",
    "height_women = np.random.normal(women_avg, women_std, n_simulations)\n",
    "\n",
    "#call that variable\n",
    "height_men"
   ]
  },
  {
   "cell_type": "code",
   "execution_count": 30,
   "id": "efb5c0b7",
   "metadata": {},
   "outputs": [
    {
     "data": {
      "text/plain": [
       "0.21168"
      ]
     },
     "execution_count": 30,
     "metadata": {},
     "output_type": "execute_result"
    }
   ],
   "source": [
    "#what is the average probability that men are taller then women\n",
    "(height_women > height_men).mean()"
   ]
  },
  {
   "cell_type": "markdown",
   "id": "506d8f8a",
   "metadata": {},
   "source": [
    "<hr style=\"border:0.5px solid black\">"
   ]
  },
  {
   "cell_type": "markdown",
   "id": "44e23199",
   "metadata": {},
   "source": [
    "##### another way to code this same question"
   ]
  },
  {
   "cell_type": "code",
   "execution_count": 31,
   "id": "1c280c52",
   "metadata": {},
   "outputs": [
    {
     "data": {
      "text/plain": [
       "array([168.73770932, 186.61863228, 194.9926388 , ..., 174.49507145,\n",
       "       169.39863027, 181.30983517])"
      ]
     },
     "execution_count": 31,
     "metadata": {},
     "output_type": "execute_result"
    }
   ],
   "source": [
    "men = np.random.normal(178, 8, size = n_simulations)\n",
    "men"
   ]
  },
  {
   "cell_type": "code",
   "execution_count": 32,
   "id": "3706bdca",
   "metadata": {},
   "outputs": [
    {
     "data": {
      "text/plain": [
       "array([167.25096473, 163.86519891, 164.1978826 , ..., 166.01447828,\n",
       "       176.31530901, 170.24577267])"
      ]
     },
     "execution_count": 32,
     "metadata": {},
     "output_type": "execute_result"
    }
   ],
   "source": [
    "women = np.random.normal(170, 6, size = n_simulations)\n",
    "women"
   ]
  },
  {
   "cell_type": "code",
   "execution_count": 33,
   "id": "a2fed250",
   "metadata": {},
   "outputs": [
    {
     "data": {
      "text/plain": [
       "0.21166"
      ]
     },
     "execution_count": 33,
     "metadata": {},
     "output_type": "execute_result"
    }
   ],
   "source": [
    "#probability that women are taller then men on average\n",
    "(women > men).mean()"
   ]
  },
  {
   "cell_type": "markdown",
   "id": "505c3c02",
   "metadata": {},
   "source": [
    "<hr style=\"border:1.5px solid black\">"
   ]
  },
  {
   "cell_type": "markdown",
   "id": "9548546c",
   "metadata": {},
   "source": [
    "### #6 When installing anaconda on a student's computer, there's a 1 in 250 chance that the download is corrupted and the installation fails.\n",
    "- What are the odds that after having 50 students download anaconda, no one has an installation issue? 100 students?\n",
    "- What is the probability that we observe an installation issue within the first 150 students that download anaconda?\n",
    "- How likely is it that 450 students all download anaconda without an issue?"
   ]
  },
  {
   "cell_type": "markdown",
   "id": "ac88430c",
   "metadata": {},
   "source": [
    "##### Let's break it down\n",
    "- prob_fail = 1/250\n",
    "- 50 students == 0 fails\n",
    "- 100 students == 0 fails\n",
    "- 150 students >= 1 fail\n",
    "- 450 students == 0 fails"
   ]
  },
  {
   "cell_type": "markdown",
   "id": "0e1e44b0",
   "metadata": {},
   "source": [
    "##### 50 installs with no issues"
   ]
  },
  {
   "cell_type": "code",
   "execution_count": 36,
   "id": "ff735ce3",
   "metadata": {},
   "outputs": [],
   "source": [
    "#possible outcomes, success or failure\n",
    "outcomes = ['S', 'F']\n",
    "\n",
    "n_students = 50"
   ]
  },
  {
   "cell_type": "code",
   "execution_count": 37,
   "id": "80e21358",
   "metadata": {},
   "outputs": [
    {
     "data": {
      "text/plain": [
       "array([['S', 'S', 'S', ..., 'S', 'S', 'S'],\n",
       "       ['S', 'S', 'S', ..., 'S', 'S', 'S'],\n",
       "       ['S', 'S', 'S', ..., 'S', 'S', 'S'],\n",
       "       ...,\n",
       "       ['S', 'S', 'S', ..., 'S', 'S', 'S'],\n",
       "       ['S', 'S', 'S', ..., 'S', 'S', 'S'],\n",
       "       ['S', 'F', 'S', ..., 'S', 'S', 'S']], dtype='<U1')"
      ]
     },
     "execution_count": 37,
     "metadata": {},
     "output_type": "execute_result"
    }
   ],
   "source": [
    "downloads = np.random.choice(outcomes, size=(n_simulations, n_students), \n",
    "                p = [249/250, 1/250])\n",
    "downloads"
   ]
  },
  {
   "cell_type": "code",
   "execution_count": 38,
   "id": "e7924a5e",
   "metadata": {},
   "outputs": [
    {
     "data": {
      "text/plain": [
       "array([50, 50, 50, ..., 50, 50, 48])"
      ]
     },
     "execution_count": 38,
     "metadata": {},
     "output_type": "execute_result"
    }
   ],
   "source": [
    "(downloads == 'S').sum(axis=1)"
   ]
  },
  {
   "cell_type": "code",
   "execution_count": 39,
   "id": "da614fb1",
   "metadata": {},
   "outputs": [
    {
     "data": {
      "text/plain": [
       "0.81707"
      ]
     },
     "execution_count": 39,
     "metadata": {},
     "output_type": "execute_result"
    }
   ],
   "source": [
    "((downloads == 'S').sum(axis=1) == 50).mean()"
   ]
  },
  {
   "cell_type": "markdown",
   "id": "feffd51e",
   "metadata": {},
   "source": [
    "<hr style=\"border:0.5px solid black\">"
   ]
  },
  {
   "cell_type": "markdown",
   "id": "5f0666c7",
   "metadata": {},
   "source": [
    "##### 100 installs"
   ]
  },
  {
   "cell_type": "code",
   "execution_count": 40,
   "id": "ddbefd1e",
   "metadata": {},
   "outputs": [
    {
     "data": {
      "text/plain": [
       "0.33166"
      ]
     },
     "execution_count": 40,
     "metadata": {},
     "output_type": "execute_result"
    }
   ],
   "source": [
    "outcomes = ['S', 'F']\n",
    "n_students = 100\n",
    "\n",
    "downloads = np.random.choice(outcomes, size=(n_simulations, n_students), \n",
    "                p = [249/250, 1/250])\n",
    "\n",
    "((downloads == 'S').sum(axis=1) < n_students).mean()"
   ]
  },
  {
   "cell_type": "markdown",
   "id": "73a74957",
   "metadata": {},
   "source": [
    "<hr style=\"border:0.5px solid black\">"
   ]
  },
  {
   "cell_type": "markdown",
   "id": "ca7d2321",
   "metadata": {},
   "source": [
    "##### 150 installs at least 1 fail"
   ]
  },
  {
   "cell_type": "code",
   "execution_count": 41,
   "id": "fe78eefb",
   "metadata": {},
   "outputs": [
    {
     "data": {
      "text/plain": [
       "0.44883"
      ]
     },
     "execution_count": 41,
     "metadata": {},
     "output_type": "execute_result"
    }
   ],
   "source": [
    "outcomes = ['S', 'F']\n",
    "n_students = 150\n",
    "\n",
    "downloads = np.random.choice(outcomes, size=(n_simulations, n_students), \n",
    "                p = [249/250, 1/250])\n",
    "\n",
    "((downloads == 'S').sum(axis=1) < n_students).mean()"
   ]
  },
  {
   "cell_type": "markdown",
   "id": "7312b8ad",
   "metadata": {},
   "source": [
    "<hr style=\"border:0.5px solid black\">"
   ]
  },
  {
   "cell_type": "markdown",
   "id": "27bc664f",
   "metadata": {},
   "source": [
    "##### 450 installs"
   ]
  },
  {
   "cell_type": "code",
   "execution_count": 42,
   "id": "03bb4520",
   "metadata": {},
   "outputs": [
    {
     "data": {
      "text/plain": [
       "0.16737"
      ]
     },
     "execution_count": 42,
     "metadata": {},
     "output_type": "execute_result"
    }
   ],
   "source": [
    "outcomes = ['S', 'F']\n",
    "n_students = 450\n",
    "\n",
    "downloads = np.random.choice(outcomes, size=(n_simulations, n_students), \n",
    "                p = [249/250, 1/250])\n",
    "\n",
    "((downloads == 'S').sum(axis=1) == n_students).mean()"
   ]
  },
  {
   "cell_type": "markdown",
   "id": "9796f514",
   "metadata": {},
   "source": [
    "<hr style=\"border:1px solid black\">"
   ]
  },
  {
   "cell_type": "markdown",
   "id": "236784f3",
   "metadata": {},
   "source": [
    "### #7. There's a 70% chance on any given day that there will be at least one food truck at Travis Park. However, you haven't seen a food truck there in 3 days. How unlikely is this?"
   ]
  },
  {
   "cell_type": "code",
   "execution_count": 44,
   "id": "999d35f3",
   "metadata": {},
   "outputs": [],
   "source": [
    "n_days = 3"
   ]
  },
  {
   "cell_type": "code",
   "execution_count": 45,
   "id": "a01d2aa9",
   "metadata": {},
   "outputs": [
    {
     "data": {
      "text/plain": [
       "array([[0, 1, 1],\n",
       "       [0, 1, 1],\n",
       "       [0, 1, 1],\n",
       "       ...,\n",
       "       [1, 1, 1],\n",
       "       [1, 1, 0],\n",
       "       [1, 0, 0]])"
      ]
     },
     "execution_count": 45,
     "metadata": {},
     "output_type": "execute_result"
    }
   ],
   "source": [
    "# 0 = no truck, 1 = truck shows up\n",
    "trucks = np.random.choice([0, 1], size = (n_simulations, n_days), p = [0.3, 0.7])\n",
    "\n",
    "#call the variable\n",
    "trucks"
   ]
  },
  {
   "cell_type": "markdown",
   "id": "8abca28c",
   "metadata": {},
   "source": [
    "##### probability that no truck shows up in 3 days"
   ]
  },
  {
   "cell_type": "code",
   "execution_count": 46,
   "id": "6a2f476d",
   "metadata": {},
   "outputs": [
    {
     "data": {
      "text/plain": [
       "0.02723"
      ]
     },
     "execution_count": 46,
     "metadata": {},
     "output_type": "execute_result"
    }
   ],
   "source": [
    "#axis 1 is 0 (or no truck shows up)\n",
    "(trucks.sum(axis = 1) == 0).mean()"
   ]
  },
  {
   "cell_type": "markdown",
   "id": "e379c410",
   "metadata": {},
   "source": [
    "##### How likely is it that a food truck will show up sometime this week"
   ]
  },
  {
   "cell_type": "code",
   "execution_count": 47,
   "id": "788b14f7",
   "metadata": {},
   "outputs": [
    {
     "data": {
      "text/plain": [
       "0.97277"
      ]
     },
     "execution_count": 47,
     "metadata": {},
     "output_type": "execute_result"
    }
   ],
   "source": [
    "#likelyhood that in axis 1 there is a 1 (or a truck DOES show up) one or more days\n",
    "(trucks.sum(axis = 1) >= 1).mean()"
   ]
  },
  {
   "cell_type": "markdown",
   "id": "2523b40a",
   "metadata": {},
   "source": [
    "<hr style=\"border:1px solid black\">"
   ]
  },
  {
   "cell_type": "markdown",
   "id": "b920ea80",
   "metadata": {},
   "source": [
    "### #8. If 23 people are in the same room, what are the odds that two of them share a birthday? What if it's 20 people? 40?\n"
   ]
  },
  {
   "cell_type": "markdown",
   "id": "2c406f38",
   "metadata": {},
   "source": [
    "Let's break it down:\n",
    "- 365 days in a year\n",
    "- what's the probability of same birthday"
   ]
  },
  {
   "cell_type": "markdown",
   "id": "13514040",
   "metadata": {},
   "source": [
    "#### 23 students in the class"
   ]
  },
  {
   "cell_type": "code",
   "execution_count": 48,
   "id": "80ec2476",
   "metadata": {},
   "outputs": [],
   "source": [
    "#number of days in a year\n",
    "outcomes = range(0, 365) \n",
    "\n",
    "#number of students\n",
    "n_students= 23 "
   ]
  },
  {
   "cell_type": "code",
   "execution_count": 49,
   "id": "150f9254",
   "metadata": {},
   "outputs": [
    {
     "data": {
      "text/plain": [
       "array([[312, 199,   6, ..., 222,  64, 252],\n",
       "       [259, 334, 259, ..., 346, 188,  75],\n",
       "       [114, 209, 243, ..., 241, 356, 359],\n",
       "       ...,\n",
       "       [ 26,  38, 172, ..., 167,  59, 333],\n",
       "       [292, 319,  51, ..., 343, 197, 292],\n",
       "       [ 50, 227, 132, ..., 111,  72,   7]])"
      ]
     },
     "execution_count": 49,
     "metadata": {},
     "output_type": "execute_result"
    }
   ],
   "source": [
    "#using random choice to get the possible birthdays\n",
    "birthdays= np.random.choice(outcomes, size=(n_simulations, n_students))\n",
    "\n",
    "#call that variable\n",
    "birthdays"
   ]
  },
  {
   "cell_type": "code",
   "execution_count": 50,
   "id": "ec7ca991",
   "metadata": {},
   "outputs": [
    {
     "data": {
      "text/html": [
       "<div>\n",
       "<style scoped>\n",
       "    .dataframe tbody tr th:only-of-type {\n",
       "        vertical-align: middle;\n",
       "    }\n",
       "\n",
       "    .dataframe tbody tr th {\n",
       "        vertical-align: top;\n",
       "    }\n",
       "\n",
       "    .dataframe thead th {\n",
       "        text-align: right;\n",
       "    }\n",
       "</style>\n",
       "<table border=\"1\" class=\"dataframe\">\n",
       "  <thead>\n",
       "    <tr style=\"text-align: right;\">\n",
       "      <th></th>\n",
       "      <th>0</th>\n",
       "      <th>1</th>\n",
       "      <th>2</th>\n",
       "      <th>3</th>\n",
       "      <th>4</th>\n",
       "      <th>5</th>\n",
       "      <th>6</th>\n",
       "      <th>7</th>\n",
       "      <th>8</th>\n",
       "      <th>9</th>\n",
       "      <th>...</th>\n",
       "      <th>13</th>\n",
       "      <th>14</th>\n",
       "      <th>15</th>\n",
       "      <th>16</th>\n",
       "      <th>17</th>\n",
       "      <th>18</th>\n",
       "      <th>19</th>\n",
       "      <th>20</th>\n",
       "      <th>21</th>\n",
       "      <th>22</th>\n",
       "    </tr>\n",
       "  </thead>\n",
       "  <tbody>\n",
       "    <tr>\n",
       "      <th>0</th>\n",
       "      <td>312</td>\n",
       "      <td>199</td>\n",
       "      <td>6</td>\n",
       "      <td>133</td>\n",
       "      <td>225</td>\n",
       "      <td>126</td>\n",
       "      <td>296</td>\n",
       "      <td>94</td>\n",
       "      <td>108</td>\n",
       "      <td>131</td>\n",
       "      <td>...</td>\n",
       "      <td>114</td>\n",
       "      <td>238</td>\n",
       "      <td>322</td>\n",
       "      <td>364</td>\n",
       "      <td>340</td>\n",
       "      <td>20</td>\n",
       "      <td>228</td>\n",
       "      <td>222</td>\n",
       "      <td>64</td>\n",
       "      <td>252</td>\n",
       "    </tr>\n",
       "    <tr>\n",
       "      <th>1</th>\n",
       "      <td>259</td>\n",
       "      <td>334</td>\n",
       "      <td>259</td>\n",
       "      <td>188</td>\n",
       "      <td>185</td>\n",
       "      <td>45</td>\n",
       "      <td>104</td>\n",
       "      <td>300</td>\n",
       "      <td>159</td>\n",
       "      <td>77</td>\n",
       "      <td>...</td>\n",
       "      <td>261</td>\n",
       "      <td>265</td>\n",
       "      <td>98</td>\n",
       "      <td>19</td>\n",
       "      <td>251</td>\n",
       "      <td>62</td>\n",
       "      <td>87</td>\n",
       "      <td>346</td>\n",
       "      <td>188</td>\n",
       "      <td>75</td>\n",
       "    </tr>\n",
       "    <tr>\n",
       "      <th>2</th>\n",
       "      <td>114</td>\n",
       "      <td>209</td>\n",
       "      <td>243</td>\n",
       "      <td>80</td>\n",
       "      <td>334</td>\n",
       "      <td>334</td>\n",
       "      <td>207</td>\n",
       "      <td>148</td>\n",
       "      <td>256</td>\n",
       "      <td>285</td>\n",
       "      <td>...</td>\n",
       "      <td>244</td>\n",
       "      <td>349</td>\n",
       "      <td>130</td>\n",
       "      <td>166</td>\n",
       "      <td>356</td>\n",
       "      <td>75</td>\n",
       "      <td>232</td>\n",
       "      <td>241</td>\n",
       "      <td>356</td>\n",
       "      <td>359</td>\n",
       "    </tr>\n",
       "    <tr>\n",
       "      <th>3</th>\n",
       "      <td>256</td>\n",
       "      <td>5</td>\n",
       "      <td>229</td>\n",
       "      <td>176</td>\n",
       "      <td>50</td>\n",
       "      <td>203</td>\n",
       "      <td>216</td>\n",
       "      <td>282</td>\n",
       "      <td>30</td>\n",
       "      <td>163</td>\n",
       "      <td>...</td>\n",
       "      <td>167</td>\n",
       "      <td>65</td>\n",
       "      <td>5</td>\n",
       "      <td>163</td>\n",
       "      <td>82</td>\n",
       "      <td>272</td>\n",
       "      <td>119</td>\n",
       "      <td>55</td>\n",
       "      <td>111</td>\n",
       "      <td>91</td>\n",
       "    </tr>\n",
       "    <tr>\n",
       "      <th>4</th>\n",
       "      <td>72</td>\n",
       "      <td>219</td>\n",
       "      <td>116</td>\n",
       "      <td>2</td>\n",
       "      <td>345</td>\n",
       "      <td>206</td>\n",
       "      <td>10</td>\n",
       "      <td>116</td>\n",
       "      <td>184</td>\n",
       "      <td>95</td>\n",
       "      <td>...</td>\n",
       "      <td>13</td>\n",
       "      <td>241</td>\n",
       "      <td>296</td>\n",
       "      <td>245</td>\n",
       "      <td>118</td>\n",
       "      <td>140</td>\n",
       "      <td>158</td>\n",
       "      <td>55</td>\n",
       "      <td>287</td>\n",
       "      <td>115</td>\n",
       "    </tr>\n",
       "  </tbody>\n",
       "</table>\n",
       "<p>5 rows × 23 columns</p>\n",
       "</div>"
      ],
      "text/plain": [
       "    0    1    2    3    4    5    6    7    8    9   ...   13   14   15   16  \\\n",
       "0  312  199    6  133  225  126  296   94  108  131  ...  114  238  322  364   \n",
       "1  259  334  259  188  185   45  104  300  159   77  ...  261  265   98   19   \n",
       "2  114  209  243   80  334  334  207  148  256  285  ...  244  349  130  166   \n",
       "3  256    5  229  176   50  203  216  282   30  163  ...  167   65    5  163   \n",
       "4   72  219  116    2  345  206   10  116  184   95  ...   13  241  296  245   \n",
       "\n",
       "    17   18   19   20   21   22  \n",
       "0  340   20  228  222   64  252  \n",
       "1  251   62   87  346  188   75  \n",
       "2  356   75  232  241  356  359  \n",
       "3   82  272  119   55  111   91  \n",
       "4  118  140  158   55  287  115  \n",
       "\n",
       "[5 rows x 23 columns]"
      ]
     },
     "execution_count": 50,
     "metadata": {},
     "output_type": "execute_result"
    }
   ],
   "source": [
    "#turn it into a DF so it's easier to read\n",
    "birthdays = pd.DataFrame(birthdays)\n",
    "\n",
    "#call our new DF\n",
    "birthdays.head()"
   ]
  },
  {
   "cell_type": "code",
   "execution_count": 51,
   "id": "d6958310",
   "metadata": {},
   "outputs": [
    {
     "data": {
      "text/plain": [
       "0.50825"
      ]
     },
     "execution_count": 51,
     "metadata": {},
     "output_type": "execute_result"
    }
   ],
   "source": [
    "#what are the chances that on average we will have a unique birthday\n",
    "(birthdays.nunique(axis=1) < 23).mean()"
   ]
  },
  {
   "cell_type": "markdown",
   "id": "9e992151",
   "metadata": {},
   "source": [
    "<hr style=\"border:0.5px solid black\">"
   ]
  },
  {
   "cell_type": "markdown",
   "id": "02ad2f25",
   "metadata": {},
   "source": [
    "#### 20 students per class"
   ]
  },
  {
   "cell_type": "code",
   "execution_count": 52,
   "id": "53fd520e",
   "metadata": {},
   "outputs": [],
   "source": [
    "#number of days in a year\n",
    "outcomes = range(0, 365) \n",
    "\n",
    "#number of students\n",
    "n_students= 20 "
   ]
  },
  {
   "cell_type": "code",
   "execution_count": 53,
   "id": "b6272a2a",
   "metadata": {},
   "outputs": [
    {
     "data": {
      "text/html": [
       "<div>\n",
       "<style scoped>\n",
       "    .dataframe tbody tr th:only-of-type {\n",
       "        vertical-align: middle;\n",
       "    }\n",
       "\n",
       "    .dataframe tbody tr th {\n",
       "        vertical-align: top;\n",
       "    }\n",
       "\n",
       "    .dataframe thead th {\n",
       "        text-align: right;\n",
       "    }\n",
       "</style>\n",
       "<table border=\"1\" class=\"dataframe\">\n",
       "  <thead>\n",
       "    <tr style=\"text-align: right;\">\n",
       "      <th></th>\n",
       "      <th>0</th>\n",
       "      <th>1</th>\n",
       "      <th>2</th>\n",
       "      <th>3</th>\n",
       "      <th>4</th>\n",
       "      <th>5</th>\n",
       "      <th>6</th>\n",
       "      <th>7</th>\n",
       "      <th>8</th>\n",
       "      <th>9</th>\n",
       "      <th>10</th>\n",
       "      <th>11</th>\n",
       "      <th>12</th>\n",
       "      <th>13</th>\n",
       "      <th>14</th>\n",
       "      <th>15</th>\n",
       "      <th>16</th>\n",
       "      <th>17</th>\n",
       "      <th>18</th>\n",
       "      <th>19</th>\n",
       "    </tr>\n",
       "  </thead>\n",
       "  <tbody>\n",
       "    <tr>\n",
       "      <th>0</th>\n",
       "      <td>42</td>\n",
       "      <td>315</td>\n",
       "      <td>51</td>\n",
       "      <td>235</td>\n",
       "      <td>328</td>\n",
       "      <td>138</td>\n",
       "      <td>319</td>\n",
       "      <td>292</td>\n",
       "      <td>212</td>\n",
       "      <td>196</td>\n",
       "      <td>90</td>\n",
       "      <td>274</td>\n",
       "      <td>310</td>\n",
       "      <td>338</td>\n",
       "      <td>187</td>\n",
       "      <td>197</td>\n",
       "      <td>253</td>\n",
       "      <td>279</td>\n",
       "      <td>129</td>\n",
       "      <td>218</td>\n",
       "    </tr>\n",
       "    <tr>\n",
       "      <th>1</th>\n",
       "      <td>222</td>\n",
       "      <td>24</td>\n",
       "      <td>246</td>\n",
       "      <td>9</td>\n",
       "      <td>157</td>\n",
       "      <td>241</td>\n",
       "      <td>237</td>\n",
       "      <td>100</td>\n",
       "      <td>10</td>\n",
       "      <td>176</td>\n",
       "      <td>50</td>\n",
       "      <td>171</td>\n",
       "      <td>282</td>\n",
       "      <td>146</td>\n",
       "      <td>165</td>\n",
       "      <td>185</td>\n",
       "      <td>10</td>\n",
       "      <td>252</td>\n",
       "      <td>177</td>\n",
       "      <td>0</td>\n",
       "    </tr>\n",
       "    <tr>\n",
       "      <th>2</th>\n",
       "      <td>254</td>\n",
       "      <td>334</td>\n",
       "      <td>323</td>\n",
       "      <td>361</td>\n",
       "      <td>141</td>\n",
       "      <td>40</td>\n",
       "      <td>238</td>\n",
       "      <td>304</td>\n",
       "      <td>108</td>\n",
       "      <td>321</td>\n",
       "      <td>117</td>\n",
       "      <td>321</td>\n",
       "      <td>79</td>\n",
       "      <td>352</td>\n",
       "      <td>131</td>\n",
       "      <td>112</td>\n",
       "      <td>112</td>\n",
       "      <td>162</td>\n",
       "      <td>211</td>\n",
       "      <td>168</td>\n",
       "    </tr>\n",
       "    <tr>\n",
       "      <th>3</th>\n",
       "      <td>113</td>\n",
       "      <td>302</td>\n",
       "      <td>357</td>\n",
       "      <td>80</td>\n",
       "      <td>314</td>\n",
       "      <td>68</td>\n",
       "      <td>221</td>\n",
       "      <td>306</td>\n",
       "      <td>139</td>\n",
       "      <td>348</td>\n",
       "      <td>206</td>\n",
       "      <td>58</td>\n",
       "      <td>217</td>\n",
       "      <td>19</td>\n",
       "      <td>191</td>\n",
       "      <td>196</td>\n",
       "      <td>15</td>\n",
       "      <td>254</td>\n",
       "      <td>336</td>\n",
       "      <td>93</td>\n",
       "    </tr>\n",
       "    <tr>\n",
       "      <th>4</th>\n",
       "      <td>184</td>\n",
       "      <td>342</td>\n",
       "      <td>94</td>\n",
       "      <td>362</td>\n",
       "      <td>2</td>\n",
       "      <td>63</td>\n",
       "      <td>161</td>\n",
       "      <td>263</td>\n",
       "      <td>189</td>\n",
       "      <td>10</td>\n",
       "      <td>156</td>\n",
       "      <td>309</td>\n",
       "      <td>96</td>\n",
       "      <td>148</td>\n",
       "      <td>46</td>\n",
       "      <td>317</td>\n",
       "      <td>345</td>\n",
       "      <td>158</td>\n",
       "      <td>359</td>\n",
       "      <td>364</td>\n",
       "    </tr>\n",
       "    <tr>\n",
       "      <th>...</th>\n",
       "      <td>...</td>\n",
       "      <td>...</td>\n",
       "      <td>...</td>\n",
       "      <td>...</td>\n",
       "      <td>...</td>\n",
       "      <td>...</td>\n",
       "      <td>...</td>\n",
       "      <td>...</td>\n",
       "      <td>...</td>\n",
       "      <td>...</td>\n",
       "      <td>...</td>\n",
       "      <td>...</td>\n",
       "      <td>...</td>\n",
       "      <td>...</td>\n",
       "      <td>...</td>\n",
       "      <td>...</td>\n",
       "      <td>...</td>\n",
       "      <td>...</td>\n",
       "      <td>...</td>\n",
       "      <td>...</td>\n",
       "    </tr>\n",
       "    <tr>\n",
       "      <th>99995</th>\n",
       "      <td>159</td>\n",
       "      <td>307</td>\n",
       "      <td>248</td>\n",
       "      <td>33</td>\n",
       "      <td>343</td>\n",
       "      <td>322</td>\n",
       "      <td>200</td>\n",
       "      <td>165</td>\n",
       "      <td>332</td>\n",
       "      <td>191</td>\n",
       "      <td>15</td>\n",
       "      <td>179</td>\n",
       "      <td>307</td>\n",
       "      <td>334</td>\n",
       "      <td>65</td>\n",
       "      <td>10</td>\n",
       "      <td>184</td>\n",
       "      <td>134</td>\n",
       "      <td>57</td>\n",
       "      <td>163</td>\n",
       "    </tr>\n",
       "    <tr>\n",
       "      <th>99996</th>\n",
       "      <td>106</td>\n",
       "      <td>52</td>\n",
       "      <td>252</td>\n",
       "      <td>67</td>\n",
       "      <td>198</td>\n",
       "      <td>193</td>\n",
       "      <td>182</td>\n",
       "      <td>112</td>\n",
       "      <td>70</td>\n",
       "      <td>266</td>\n",
       "      <td>272</td>\n",
       "      <td>190</td>\n",
       "      <td>324</td>\n",
       "      <td>158</td>\n",
       "      <td>112</td>\n",
       "      <td>193</td>\n",
       "      <td>292</td>\n",
       "      <td>290</td>\n",
       "      <td>231</td>\n",
       "      <td>289</td>\n",
       "    </tr>\n",
       "    <tr>\n",
       "      <th>99997</th>\n",
       "      <td>333</td>\n",
       "      <td>63</td>\n",
       "      <td>10</td>\n",
       "      <td>247</td>\n",
       "      <td>103</td>\n",
       "      <td>87</td>\n",
       "      <td>1</td>\n",
       "      <td>48</td>\n",
       "      <td>99</td>\n",
       "      <td>178</td>\n",
       "      <td>239</td>\n",
       "      <td>211</td>\n",
       "      <td>35</td>\n",
       "      <td>164</td>\n",
       "      <td>186</td>\n",
       "      <td>138</td>\n",
       "      <td>48</td>\n",
       "      <td>335</td>\n",
       "      <td>251</td>\n",
       "      <td>109</td>\n",
       "    </tr>\n",
       "    <tr>\n",
       "      <th>99998</th>\n",
       "      <td>212</td>\n",
       "      <td>265</td>\n",
       "      <td>314</td>\n",
       "      <td>349</td>\n",
       "      <td>265</td>\n",
       "      <td>225</td>\n",
       "      <td>248</td>\n",
       "      <td>236</td>\n",
       "      <td>209</td>\n",
       "      <td>87</td>\n",
       "      <td>267</td>\n",
       "      <td>242</td>\n",
       "      <td>245</td>\n",
       "      <td>84</td>\n",
       "      <td>197</td>\n",
       "      <td>85</td>\n",
       "      <td>298</td>\n",
       "      <td>90</td>\n",
       "      <td>313</td>\n",
       "      <td>160</td>\n",
       "    </tr>\n",
       "    <tr>\n",
       "      <th>99999</th>\n",
       "      <td>11</td>\n",
       "      <td>72</td>\n",
       "      <td>339</td>\n",
       "      <td>330</td>\n",
       "      <td>90</td>\n",
       "      <td>59</td>\n",
       "      <td>48</td>\n",
       "      <td>137</td>\n",
       "      <td>291</td>\n",
       "      <td>151</td>\n",
       "      <td>90</td>\n",
       "      <td>104</td>\n",
       "      <td>236</td>\n",
       "      <td>0</td>\n",
       "      <td>338</td>\n",
       "      <td>54</td>\n",
       "      <td>347</td>\n",
       "      <td>183</td>\n",
       "      <td>76</td>\n",
       "      <td>242</td>\n",
       "    </tr>\n",
       "  </tbody>\n",
       "</table>\n",
       "<p>100000 rows × 20 columns</p>\n",
       "</div>"
      ],
      "text/plain": [
       "        0    1    2    3    4    5    6    7    8    9    10   11   12   13  \\\n",
       "0       42  315   51  235  328  138  319  292  212  196   90  274  310  338   \n",
       "1      222   24  246    9  157  241  237  100   10  176   50  171  282  146   \n",
       "2      254  334  323  361  141   40  238  304  108  321  117  321   79  352   \n",
       "3      113  302  357   80  314   68  221  306  139  348  206   58  217   19   \n",
       "4      184  342   94  362    2   63  161  263  189   10  156  309   96  148   \n",
       "...    ...  ...  ...  ...  ...  ...  ...  ...  ...  ...  ...  ...  ...  ...   \n",
       "99995  159  307  248   33  343  322  200  165  332  191   15  179  307  334   \n",
       "99996  106   52  252   67  198  193  182  112   70  266  272  190  324  158   \n",
       "99997  333   63   10  247  103   87    1   48   99  178  239  211   35  164   \n",
       "99998  212  265  314  349  265  225  248  236  209   87  267  242  245   84   \n",
       "99999   11   72  339  330   90   59   48  137  291  151   90  104  236    0   \n",
       "\n",
       "        14   15   16   17   18   19  \n",
       "0      187  197  253  279  129  218  \n",
       "1      165  185   10  252  177    0  \n",
       "2      131  112  112  162  211  168  \n",
       "3      191  196   15  254  336   93  \n",
       "4       46  317  345  158  359  364  \n",
       "...    ...  ...  ...  ...  ...  ...  \n",
       "99995   65   10  184  134   57  163  \n",
       "99996  112  193  292  290  231  289  \n",
       "99997  186  138   48  335  251  109  \n",
       "99998  197   85  298   90  313  160  \n",
       "99999  338   54  347  183   76  242  \n",
       "\n",
       "[100000 rows x 20 columns]"
      ]
     },
     "execution_count": 53,
     "metadata": {},
     "output_type": "execute_result"
    }
   ],
   "source": [
    "#let's see what the possibility of birhtdays is with 20 students\n",
    "birthdays= np.random.choice(outcomes, size=(n_simulations, n_students))\n",
    "\n",
    "#turn that into a DF\n",
    "birthdays = pd.DataFrame(birthdays)\n",
    "\n",
    "#call the DF\n",
    "birthdays"
   ]
  },
  {
   "cell_type": "code",
   "execution_count": 54,
   "id": "cb936e94",
   "metadata": {},
   "outputs": [
    {
     "data": {
      "text/plain": [
       "0.4099"
      ]
     },
     "execution_count": 54,
     "metadata": {},
     "output_type": "execute_result"
    }
   ],
   "source": [
    "#get the probability\n",
    "(birthdays.nunique(axis=1) = n_students).mean()"
   ]
  },
  {
   "cell_type": "markdown",
   "id": "326bc901",
   "metadata": {},
   "source": [
    "<hr style=\"border:0.5px solid black\">"
   ]
  },
  {
   "cell_type": "markdown",
   "id": "853e9618",
   "metadata": {},
   "source": [
    "##### 40 students per class"
   ]
  },
  {
   "cell_type": "code",
   "execution_count": 55,
   "id": "8a2b9eff",
   "metadata": {},
   "outputs": [],
   "source": [
    "#number of days in a year\n",
    "outcomes = range(0, 365) \n",
    "\n",
    "#number of students\n",
    "n_students = 40\n",
    "\n",
    "#let's see what the possibility of birhtdays is with 40 students\n",
    "birthdays = np.random.choice(outcomes, size=(n_simulations, n_students))\n",
    "\n",
    "#call the DF\n",
    "birthdays = pd.DataFrame(birthdays)"
   ]
  },
  {
   "cell_type": "code",
   "execution_count": 56,
   "id": "6442a001",
   "metadata": {},
   "outputs": [
    {
     "data": {
      "text/plain": [
       "0.89029"
      ]
     },
     "execution_count": 56,
     "metadata": {},
     "output_type": "execute_result"
    }
   ],
   "source": [
    "#get the probability\n",
    "(birthdays.nunique(axis=1) < n_students).mean()"
   ]
  }
 ],
 "metadata": {
  "kernelspec": {
   "display_name": "Python 3 (ipykernel)",
   "language": "python",
   "name": "python3"
  },
  "language_info": {
   "codemirror_mode": {
    "name": "ipython",
    "version": 3
   },
   "file_extension": ".py",
   "mimetype": "text/x-python",
   "name": "python",
   "nbconvert_exporter": "python",
   "pygments_lexer": "ipython3",
   "version": "3.9.13"
  }
 },
 "nbformat": 4,
 "nbformat_minor": 5
}
